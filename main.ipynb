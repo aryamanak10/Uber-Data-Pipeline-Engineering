{
 "cells": [
  {
   "cell_type": "markdown",
   "source": [
    "### Importing required libraries"
   ],
   "metadata": {
    "collapsed": false
   },
   "id": "448c7937a2cd73d1"
  },
  {
   "cell_type": "code",
   "execution_count": 1,
   "id": "initial_id",
   "metadata": {
    "collapsed": true,
    "ExecuteTime": {
     "end_time": "2023-10-22T23:17:38.839379Z",
     "start_time": "2023-10-22T23:17:38.366278Z"
    }
   },
   "outputs": [],
   "source": [
    "import pandas as pd"
   ]
  },
  {
   "cell_type": "markdown",
   "source": [
    "### Importing Dataset and Pre-Processing"
   ],
   "metadata": {
    "collapsed": false
   },
   "id": "45fdd50cf417a"
  },
  {
   "cell_type": "code",
   "execution_count": 2,
   "outputs": [],
   "source": [
    "df = pd.read_csv(\"dataset_uber.csv\")"
   ],
   "metadata": {
    "collapsed": false,
    "ExecuteTime": {
     "end_time": "2023-10-22T23:17:40.718705Z",
     "start_time": "2023-10-22T23:17:40.527563Z"
    }
   },
   "id": "e21e1cbf6fd26539"
  },
  {
   "cell_type": "code",
   "execution_count": 3,
   "outputs": [
    {
     "data": {
      "text/plain": "   VendorID tpep_pickup_datetime tpep_dropoff_datetime  passenger_count  \\\n0         1  2016-03-01 00:00:00   2016-03-01 00:07:55                1   \n1         1  2016-03-01 00:00:00   2016-03-01 00:11:06                1   \n2         2  2016-03-01 00:00:00   2016-03-01 00:31:06                2   \n3         2  2016-03-01 00:00:00   2016-03-01 00:00:00                3   \n4         2  2016-03-01 00:00:00   2016-03-01 00:00:00                5   \n\n   trip_distance  pickup_longitude  pickup_latitude  RatecodeID  \\\n0           2.50        -73.976746        40.765152           1   \n1           2.90        -73.983482        40.767925           1   \n2          19.98        -73.782021        40.644810           1   \n3          10.78        -73.863419        40.769814           1   \n4          30.43        -73.971741        40.792183           3   \n\n  store_and_fwd_flag  dropoff_longitude  dropoff_latitude  payment_type  \\\n0                  N         -74.004265         40.746128             1   \n1                  N         -74.005943         40.733166             1   \n2                  N         -73.974541         40.675770             1   \n3                  N         -73.969650         40.757767             1   \n4                  N         -74.177170         40.695053             1   \n\n   fare_amount  extra  mta_tax  tip_amount  tolls_amount  \\\n0          9.0    0.5      0.5        2.05          0.00   \n1         11.0    0.5      0.5        3.05          0.00   \n2         54.5    0.5      0.5        8.00          0.00   \n3         31.5    0.0      0.5        3.78          5.54   \n4         98.0    0.0      0.0        0.00         15.50   \n\n   improvement_surcharge  total_amount  \n0                    0.3         12.35  \n1                    0.3         15.35  \n2                    0.3         63.80  \n3                    0.3         41.62  \n4                    0.3        113.80  ",
      "text/html": "<div>\n<style scoped>\n    .dataframe tbody tr th:only-of-type {\n        vertical-align: middle;\n    }\n\n    .dataframe tbody tr th {\n        vertical-align: top;\n    }\n\n    .dataframe thead th {\n        text-align: right;\n    }\n</style>\n<table border=\"1\" class=\"dataframe\">\n  <thead>\n    <tr style=\"text-align: right;\">\n      <th></th>\n      <th>VendorID</th>\n      <th>tpep_pickup_datetime</th>\n      <th>tpep_dropoff_datetime</th>\n      <th>passenger_count</th>\n      <th>trip_distance</th>\n      <th>pickup_longitude</th>\n      <th>pickup_latitude</th>\n      <th>RatecodeID</th>\n      <th>store_and_fwd_flag</th>\n      <th>dropoff_longitude</th>\n      <th>dropoff_latitude</th>\n      <th>payment_type</th>\n      <th>fare_amount</th>\n      <th>extra</th>\n      <th>mta_tax</th>\n      <th>tip_amount</th>\n      <th>tolls_amount</th>\n      <th>improvement_surcharge</th>\n      <th>total_amount</th>\n    </tr>\n  </thead>\n  <tbody>\n    <tr>\n      <th>0</th>\n      <td>1</td>\n      <td>2016-03-01 00:00:00</td>\n      <td>2016-03-01 00:07:55</td>\n      <td>1</td>\n      <td>2.50</td>\n      <td>-73.976746</td>\n      <td>40.765152</td>\n      <td>1</td>\n      <td>N</td>\n      <td>-74.004265</td>\n      <td>40.746128</td>\n      <td>1</td>\n      <td>9.0</td>\n      <td>0.5</td>\n      <td>0.5</td>\n      <td>2.05</td>\n      <td>0.00</td>\n      <td>0.3</td>\n      <td>12.35</td>\n    </tr>\n    <tr>\n      <th>1</th>\n      <td>1</td>\n      <td>2016-03-01 00:00:00</td>\n      <td>2016-03-01 00:11:06</td>\n      <td>1</td>\n      <td>2.90</td>\n      <td>-73.983482</td>\n      <td>40.767925</td>\n      <td>1</td>\n      <td>N</td>\n      <td>-74.005943</td>\n      <td>40.733166</td>\n      <td>1</td>\n      <td>11.0</td>\n      <td>0.5</td>\n      <td>0.5</td>\n      <td>3.05</td>\n      <td>0.00</td>\n      <td>0.3</td>\n      <td>15.35</td>\n    </tr>\n    <tr>\n      <th>2</th>\n      <td>2</td>\n      <td>2016-03-01 00:00:00</td>\n      <td>2016-03-01 00:31:06</td>\n      <td>2</td>\n      <td>19.98</td>\n      <td>-73.782021</td>\n      <td>40.644810</td>\n      <td>1</td>\n      <td>N</td>\n      <td>-73.974541</td>\n      <td>40.675770</td>\n      <td>1</td>\n      <td>54.5</td>\n      <td>0.5</td>\n      <td>0.5</td>\n      <td>8.00</td>\n      <td>0.00</td>\n      <td>0.3</td>\n      <td>63.80</td>\n    </tr>\n    <tr>\n      <th>3</th>\n      <td>2</td>\n      <td>2016-03-01 00:00:00</td>\n      <td>2016-03-01 00:00:00</td>\n      <td>3</td>\n      <td>10.78</td>\n      <td>-73.863419</td>\n      <td>40.769814</td>\n      <td>1</td>\n      <td>N</td>\n      <td>-73.969650</td>\n      <td>40.757767</td>\n      <td>1</td>\n      <td>31.5</td>\n      <td>0.0</td>\n      <td>0.5</td>\n      <td>3.78</td>\n      <td>5.54</td>\n      <td>0.3</td>\n      <td>41.62</td>\n    </tr>\n    <tr>\n      <th>4</th>\n      <td>2</td>\n      <td>2016-03-01 00:00:00</td>\n      <td>2016-03-01 00:00:00</td>\n      <td>5</td>\n      <td>30.43</td>\n      <td>-73.971741</td>\n      <td>40.792183</td>\n      <td>3</td>\n      <td>N</td>\n      <td>-74.177170</td>\n      <td>40.695053</td>\n      <td>1</td>\n      <td>98.0</td>\n      <td>0.0</td>\n      <td>0.0</td>\n      <td>0.00</td>\n      <td>15.50</td>\n      <td>0.3</td>\n      <td>113.80</td>\n    </tr>\n  </tbody>\n</table>\n</div>"
     },
     "execution_count": 3,
     "metadata": {},
     "output_type": "execute_result"
    }
   ],
   "source": [
    "df.head()"
   ],
   "metadata": {
    "collapsed": false,
    "ExecuteTime": {
     "end_time": "2023-10-22T23:17:41.343821Z",
     "start_time": "2023-10-22T23:17:41.332443Z"
    }
   },
   "id": "2ad7b5da6ffde34d"
  },
  {
   "cell_type": "markdown",
   "source": [
    "#### Creating Dimension and Facts table using the dataset."
   ],
   "metadata": {
    "collapsed": false
   },
   "id": "512ea216a4a3e3c1"
  },
  {
   "cell_type": "code",
   "execution_count": 4,
   "outputs": [
    {
     "name": "stdout",
     "output_type": "stream",
     "text": [
      "<class 'pandas.core.frame.DataFrame'>\n",
      "RangeIndex: 100000 entries, 0 to 99999\n",
      "Data columns (total 19 columns):\n",
      " #   Column                 Non-Null Count   Dtype  \n",
      "---  ------                 --------------   -----  \n",
      " 0   VendorID               100000 non-null  int64  \n",
      " 1   tpep_pickup_datetime   100000 non-null  object \n",
      " 2   tpep_dropoff_datetime  100000 non-null  object \n",
      " 3   passenger_count        100000 non-null  int64  \n",
      " 4   trip_distance          100000 non-null  float64\n",
      " 5   pickup_longitude       100000 non-null  float64\n",
      " 6   pickup_latitude        100000 non-null  float64\n",
      " 7   RatecodeID             100000 non-null  int64  \n",
      " 8   store_and_fwd_flag     100000 non-null  object \n",
      " 9   dropoff_longitude      100000 non-null  float64\n",
      " 10  dropoff_latitude       100000 non-null  float64\n",
      " 11  payment_type           100000 non-null  int64  \n",
      " 12  fare_amount            100000 non-null  float64\n",
      " 13  extra                  100000 non-null  float64\n",
      " 14  mta_tax                100000 non-null  float64\n",
      " 15  tip_amount             100000 non-null  float64\n",
      " 16  tolls_amount           100000 non-null  float64\n",
      " 17  improvement_surcharge  100000 non-null  float64\n",
      " 18  total_amount           100000 non-null  float64\n",
      "dtypes: float64(12), int64(4), object(3)\n",
      "memory usage: 14.5+ MB\n"
     ]
    }
   ],
   "source": [
    "df.info()"
   ],
   "metadata": {
    "collapsed": false,
    "ExecuteTime": {
     "end_time": "2023-10-22T23:17:45.905430Z",
     "start_time": "2023-10-22T23:17:45.871790Z"
    }
   },
   "id": "d8fa130b12597290"
  },
  {
   "cell_type": "markdown",
   "source": [
    "**The two features called 'tpep_pickup_datetime' and 'tpep_dropoff_datetime' and have datatype of object, so we need to convert it to datetime datatype\n",
    "but before that we need to drop the duplicate records from the dataset if any**"
   ],
   "metadata": {
    "collapsed": false
   },
   "id": "5c0e8c9e7edc7f33"
  },
  {
   "cell_type": "code",
   "execution_count": 6,
   "outputs": [],
   "source": [
    "# Changing the datatype from object to datetime.\n",
    "df['tpep_pickup_datetime'] = pd.to_datetime(df['tpep_pickup_datetime'])\n",
    "df['tpep_dropoff_datetime'] = pd.to_datetime(df['tpep_dropoff_datetime'])"
   ],
   "metadata": {
    "collapsed": false,
    "ExecuteTime": {
     "end_time": "2023-10-22T23:18:18.379953Z",
     "start_time": "2023-10-22T23:18:18.331201Z"
    }
   },
   "id": "b4c45c871578dcde"
  },
  {
   "cell_type": "code",
   "execution_count": 5,
   "outputs": [
    {
     "data": {
      "text/plain": "(100000, 19)"
     },
     "execution_count": 5,
     "metadata": {},
     "output_type": "execute_result"
    }
   ],
   "source": [
    "df.shape"
   ],
   "metadata": {
    "collapsed": false,
    "ExecuteTime": {
     "start_time": "2023-10-22T23:18:17.264307Z"
    }
   },
   "id": "efd0b2a6a773784c"
  },
  {
   "cell_type": "code",
   "execution_count": 7,
   "outputs": [],
   "source": [
    "df = df.drop_duplicates().reset_index(drop=True)"
   ],
   "metadata": {
    "collapsed": false,
    "ExecuteTime": {
     "end_time": "2023-10-22T23:18:19.780802Z",
     "start_time": "2023-10-22T23:18:19.727201Z"
    }
   },
   "id": "61bfcb42a3033a6d"
  },
  {
   "cell_type": "code",
   "execution_count": 8,
   "outputs": [
    {
     "data": {
      "text/plain": "(100000, 19)"
     },
     "execution_count": 8,
     "metadata": {},
     "output_type": "execute_result"
    }
   ],
   "source": [
    "df.shape"
   ],
   "metadata": {
    "collapsed": false,
    "ExecuteTime": {
     "end_time": "2023-10-22T23:18:20.643410Z",
     "start_time": "2023-10-22T23:18:20.638445Z"
    }
   },
   "id": "84b60bdc6b354d2a"
  },
  {
   "cell_type": "markdown",
   "source": [
    "Our dataset does not have duplicate records. We will also add a new feature called 'trip id' which is basically the index of the records."
   ],
   "metadata": {
    "collapsed": false
   },
   "id": "458b7883571e7f45"
  },
  {
   "cell_type": "code",
   "execution_count": 9,
   "outputs": [],
   "source": [
    "df['trip_id'] = df.index"
   ],
   "metadata": {
    "collapsed": false,
    "ExecuteTime": {
     "end_time": "2023-10-22T23:18:29.718872Z",
     "start_time": "2023-10-22T23:18:29.712669Z"
    }
   },
   "id": "f3fb921b92be37f"
  },
  {
   "cell_type": "code",
   "execution_count": 10,
   "outputs": [
    {
     "data": {
      "text/plain": "   VendorID tpep_pickup_datetime tpep_dropoff_datetime  passenger_count  \\\n0         1           2016-03-01   2016-03-01 00:07:55                1   \n1         1           2016-03-01   2016-03-01 00:11:06                1   \n2         2           2016-03-01   2016-03-01 00:31:06                2   \n3         2           2016-03-01   2016-03-01 00:00:00                3   \n4         2           2016-03-01   2016-03-01 00:00:00                5   \n\n   trip_distance  pickup_longitude  pickup_latitude  RatecodeID  \\\n0           2.50        -73.976746        40.765152           1   \n1           2.90        -73.983482        40.767925           1   \n2          19.98        -73.782021        40.644810           1   \n3          10.78        -73.863419        40.769814           1   \n4          30.43        -73.971741        40.792183           3   \n\n  store_and_fwd_flag  dropoff_longitude  dropoff_latitude  payment_type  \\\n0                  N         -74.004265         40.746128             1   \n1                  N         -74.005943         40.733166             1   \n2                  N         -73.974541         40.675770             1   \n3                  N         -73.969650         40.757767             1   \n4                  N         -74.177170         40.695053             1   \n\n   fare_amount  extra  mta_tax  tip_amount  tolls_amount  \\\n0          9.0    0.5      0.5        2.05          0.00   \n1         11.0    0.5      0.5        3.05          0.00   \n2         54.5    0.5      0.5        8.00          0.00   \n3         31.5    0.0      0.5        3.78          5.54   \n4         98.0    0.0      0.0        0.00         15.50   \n\n   improvement_surcharge  total_amount  trip_id  \n0                    0.3         12.35        0  \n1                    0.3         15.35        1  \n2                    0.3         63.80        2  \n3                    0.3         41.62        3  \n4                    0.3        113.80        4  ",
      "text/html": "<div>\n<style scoped>\n    .dataframe tbody tr th:only-of-type {\n        vertical-align: middle;\n    }\n\n    .dataframe tbody tr th {\n        vertical-align: top;\n    }\n\n    .dataframe thead th {\n        text-align: right;\n    }\n</style>\n<table border=\"1\" class=\"dataframe\">\n  <thead>\n    <tr style=\"text-align: right;\">\n      <th></th>\n      <th>VendorID</th>\n      <th>tpep_pickup_datetime</th>\n      <th>tpep_dropoff_datetime</th>\n      <th>passenger_count</th>\n      <th>trip_distance</th>\n      <th>pickup_longitude</th>\n      <th>pickup_latitude</th>\n      <th>RatecodeID</th>\n      <th>store_and_fwd_flag</th>\n      <th>dropoff_longitude</th>\n      <th>dropoff_latitude</th>\n      <th>payment_type</th>\n      <th>fare_amount</th>\n      <th>extra</th>\n      <th>mta_tax</th>\n      <th>tip_amount</th>\n      <th>tolls_amount</th>\n      <th>improvement_surcharge</th>\n      <th>total_amount</th>\n      <th>trip_id</th>\n    </tr>\n  </thead>\n  <tbody>\n    <tr>\n      <th>0</th>\n      <td>1</td>\n      <td>2016-03-01</td>\n      <td>2016-03-01 00:07:55</td>\n      <td>1</td>\n      <td>2.50</td>\n      <td>-73.976746</td>\n      <td>40.765152</td>\n      <td>1</td>\n      <td>N</td>\n      <td>-74.004265</td>\n      <td>40.746128</td>\n      <td>1</td>\n      <td>9.0</td>\n      <td>0.5</td>\n      <td>0.5</td>\n      <td>2.05</td>\n      <td>0.00</td>\n      <td>0.3</td>\n      <td>12.35</td>\n      <td>0</td>\n    </tr>\n    <tr>\n      <th>1</th>\n      <td>1</td>\n      <td>2016-03-01</td>\n      <td>2016-03-01 00:11:06</td>\n      <td>1</td>\n      <td>2.90</td>\n      <td>-73.983482</td>\n      <td>40.767925</td>\n      <td>1</td>\n      <td>N</td>\n      <td>-74.005943</td>\n      <td>40.733166</td>\n      <td>1</td>\n      <td>11.0</td>\n      <td>0.5</td>\n      <td>0.5</td>\n      <td>3.05</td>\n      <td>0.00</td>\n      <td>0.3</td>\n      <td>15.35</td>\n      <td>1</td>\n    </tr>\n    <tr>\n      <th>2</th>\n      <td>2</td>\n      <td>2016-03-01</td>\n      <td>2016-03-01 00:31:06</td>\n      <td>2</td>\n      <td>19.98</td>\n      <td>-73.782021</td>\n      <td>40.644810</td>\n      <td>1</td>\n      <td>N</td>\n      <td>-73.974541</td>\n      <td>40.675770</td>\n      <td>1</td>\n      <td>54.5</td>\n      <td>0.5</td>\n      <td>0.5</td>\n      <td>8.00</td>\n      <td>0.00</td>\n      <td>0.3</td>\n      <td>63.80</td>\n      <td>2</td>\n    </tr>\n    <tr>\n      <th>3</th>\n      <td>2</td>\n      <td>2016-03-01</td>\n      <td>2016-03-01 00:00:00</td>\n      <td>3</td>\n      <td>10.78</td>\n      <td>-73.863419</td>\n      <td>40.769814</td>\n      <td>1</td>\n      <td>N</td>\n      <td>-73.969650</td>\n      <td>40.757767</td>\n      <td>1</td>\n      <td>31.5</td>\n      <td>0.0</td>\n      <td>0.5</td>\n      <td>3.78</td>\n      <td>5.54</td>\n      <td>0.3</td>\n      <td>41.62</td>\n      <td>3</td>\n    </tr>\n    <tr>\n      <th>4</th>\n      <td>2</td>\n      <td>2016-03-01</td>\n      <td>2016-03-01 00:00:00</td>\n      <td>5</td>\n      <td>30.43</td>\n      <td>-73.971741</td>\n      <td>40.792183</td>\n      <td>3</td>\n      <td>N</td>\n      <td>-74.177170</td>\n      <td>40.695053</td>\n      <td>1</td>\n      <td>98.0</td>\n      <td>0.0</td>\n      <td>0.0</td>\n      <td>0.00</td>\n      <td>15.50</td>\n      <td>0.3</td>\n      <td>113.80</td>\n      <td>4</td>\n    </tr>\n  </tbody>\n</table>\n</div>"
     },
     "execution_count": 10,
     "metadata": {},
     "output_type": "execute_result"
    }
   ],
   "source": [
    "df.head()"
   ],
   "metadata": {
    "collapsed": false,
    "ExecuteTime": {
     "end_time": "2023-10-22T23:18:30.911976Z",
     "start_time": "2023-10-22T23:18:30.902888Z"
    }
   },
   "id": "91c83daf11a3ebff"
  },
  {
   "cell_type": "code",
   "execution_count": 11,
   "outputs": [
    {
     "data": {
      "text/plain": "      tpep_pickup_datetime tpep_dropoff_datetime\n0      2016-03-01 00:00:00   2016-03-01 00:07:55\n1      2016-03-01 00:00:00   2016-03-01 00:11:06\n2      2016-03-01 00:00:00   2016-03-01 00:31:06\n3      2016-03-01 00:00:00   2016-03-01 00:00:00\n4      2016-03-01 00:00:00   2016-03-01 00:00:00\n...                    ...                   ...\n99995  2016-03-01 06:17:10   2016-03-01 06:22:15\n99996  2016-03-01 06:17:10   2016-03-01 06:32:41\n99997  2016-03-01 06:17:10   2016-03-01 06:37:23\n99998  2016-03-01 06:17:10   2016-03-01 06:22:09\n99999  2016-03-01 06:17:11   2016-03-01 06:22:00\n\n[100000 rows x 2 columns]",
      "text/html": "<div>\n<style scoped>\n    .dataframe tbody tr th:only-of-type {\n        vertical-align: middle;\n    }\n\n    .dataframe tbody tr th {\n        vertical-align: top;\n    }\n\n    .dataframe thead th {\n        text-align: right;\n    }\n</style>\n<table border=\"1\" class=\"dataframe\">\n  <thead>\n    <tr style=\"text-align: right;\">\n      <th></th>\n      <th>tpep_pickup_datetime</th>\n      <th>tpep_dropoff_datetime</th>\n    </tr>\n  </thead>\n  <tbody>\n    <tr>\n      <th>0</th>\n      <td>2016-03-01 00:00:00</td>\n      <td>2016-03-01 00:07:55</td>\n    </tr>\n    <tr>\n      <th>1</th>\n      <td>2016-03-01 00:00:00</td>\n      <td>2016-03-01 00:11:06</td>\n    </tr>\n    <tr>\n      <th>2</th>\n      <td>2016-03-01 00:00:00</td>\n      <td>2016-03-01 00:31:06</td>\n    </tr>\n    <tr>\n      <th>3</th>\n      <td>2016-03-01 00:00:00</td>\n      <td>2016-03-01 00:00:00</td>\n    </tr>\n    <tr>\n      <th>4</th>\n      <td>2016-03-01 00:00:00</td>\n      <td>2016-03-01 00:00:00</td>\n    </tr>\n    <tr>\n      <th>...</th>\n      <td>...</td>\n      <td>...</td>\n    </tr>\n    <tr>\n      <th>99995</th>\n      <td>2016-03-01 06:17:10</td>\n      <td>2016-03-01 06:22:15</td>\n    </tr>\n    <tr>\n      <th>99996</th>\n      <td>2016-03-01 06:17:10</td>\n      <td>2016-03-01 06:32:41</td>\n    </tr>\n    <tr>\n      <th>99997</th>\n      <td>2016-03-01 06:17:10</td>\n      <td>2016-03-01 06:37:23</td>\n    </tr>\n    <tr>\n      <th>99998</th>\n      <td>2016-03-01 06:17:10</td>\n      <td>2016-03-01 06:22:09</td>\n    </tr>\n    <tr>\n      <th>99999</th>\n      <td>2016-03-01 06:17:11</td>\n      <td>2016-03-01 06:22:00</td>\n    </tr>\n  </tbody>\n</table>\n<p>100000 rows × 2 columns</p>\n</div>"
     },
     "execution_count": 11,
     "metadata": {},
     "output_type": "execute_result"
    }
   ],
   "source": [
    "# Creating the first dimension table for \"Pick Up Time\" and \"Drop-off Time\"\n",
    "datetime_dim = df[['tpep_pickup_datetime','tpep_dropoff_datetime']].reset_index(drop=True)\n",
    "datetime_dim"
   ],
   "metadata": {
    "collapsed": false,
    "ExecuteTime": {
     "end_time": "2023-10-22T23:18:33.106559Z",
     "start_time": "2023-10-22T23:18:33.098875Z"
    }
   },
   "id": "acc4ad0b955b9869"
  },
  {
   "cell_type": "code",
   "execution_count": 12,
   "outputs": [
    {
     "data": {
      "text/plain": "  tpep_pickup_datetime tpep_dropoff_datetime  pick_hour  pick_day  pick_month  \\\n0           2016-03-01   2016-03-01 00:07:55          0         1           3   \n1           2016-03-01   2016-03-01 00:11:06          0         1           3   \n2           2016-03-01   2016-03-01 00:31:06          0         1           3   \n3           2016-03-01   2016-03-01 00:00:00          0         1           3   \n4           2016-03-01   2016-03-01 00:00:00          0         1           3   \n\n   pick_year  pick_weekday  drop_hour  drop_day  drop_month  drop_year  \\\n0       2016             1          0         1           3       2016   \n1       2016             1          0         1           3       2016   \n2       2016             1          0         1           3       2016   \n3       2016             1          0         1           3       2016   \n4       2016             1          0         1           3       2016   \n\n   drop_weekday  \n0             1  \n1             1  \n2             1  \n3             1  \n4             1  ",
      "text/html": "<div>\n<style scoped>\n    .dataframe tbody tr th:only-of-type {\n        vertical-align: middle;\n    }\n\n    .dataframe tbody tr th {\n        vertical-align: top;\n    }\n\n    .dataframe thead th {\n        text-align: right;\n    }\n</style>\n<table border=\"1\" class=\"dataframe\">\n  <thead>\n    <tr style=\"text-align: right;\">\n      <th></th>\n      <th>tpep_pickup_datetime</th>\n      <th>tpep_dropoff_datetime</th>\n      <th>pick_hour</th>\n      <th>pick_day</th>\n      <th>pick_month</th>\n      <th>pick_year</th>\n      <th>pick_weekday</th>\n      <th>drop_hour</th>\n      <th>drop_day</th>\n      <th>drop_month</th>\n      <th>drop_year</th>\n      <th>drop_weekday</th>\n    </tr>\n  </thead>\n  <tbody>\n    <tr>\n      <th>0</th>\n      <td>2016-03-01</td>\n      <td>2016-03-01 00:07:55</td>\n      <td>0</td>\n      <td>1</td>\n      <td>3</td>\n      <td>2016</td>\n      <td>1</td>\n      <td>0</td>\n      <td>1</td>\n      <td>3</td>\n      <td>2016</td>\n      <td>1</td>\n    </tr>\n    <tr>\n      <th>1</th>\n      <td>2016-03-01</td>\n      <td>2016-03-01 00:11:06</td>\n      <td>0</td>\n      <td>1</td>\n      <td>3</td>\n      <td>2016</td>\n      <td>1</td>\n      <td>0</td>\n      <td>1</td>\n      <td>3</td>\n      <td>2016</td>\n      <td>1</td>\n    </tr>\n    <tr>\n      <th>2</th>\n      <td>2016-03-01</td>\n      <td>2016-03-01 00:31:06</td>\n      <td>0</td>\n      <td>1</td>\n      <td>3</td>\n      <td>2016</td>\n      <td>1</td>\n      <td>0</td>\n      <td>1</td>\n      <td>3</td>\n      <td>2016</td>\n      <td>1</td>\n    </tr>\n    <tr>\n      <th>3</th>\n      <td>2016-03-01</td>\n      <td>2016-03-01 00:00:00</td>\n      <td>0</td>\n      <td>1</td>\n      <td>3</td>\n      <td>2016</td>\n      <td>1</td>\n      <td>0</td>\n      <td>1</td>\n      <td>3</td>\n      <td>2016</td>\n      <td>1</td>\n    </tr>\n    <tr>\n      <th>4</th>\n      <td>2016-03-01</td>\n      <td>2016-03-01 00:00:00</td>\n      <td>0</td>\n      <td>1</td>\n      <td>3</td>\n      <td>2016</td>\n      <td>1</td>\n      <td>0</td>\n      <td>1</td>\n      <td>3</td>\n      <td>2016</td>\n      <td>1</td>\n    </tr>\n  </tbody>\n</table>\n</div>"
     },
     "execution_count": 12,
     "metadata": {},
     "output_type": "execute_result"
    }
   ],
   "source": [
    "# Creating features for Pick-Up hour, day, month, year, and weekday\n",
    "datetime_dim['pick_hour'] = datetime_dim['tpep_pickup_datetime'].dt.hour\n",
    "datetime_dim['pick_day'] = datetime_dim['tpep_pickup_datetime'].dt.day\n",
    "datetime_dim['pick_month'] = datetime_dim['tpep_pickup_datetime'].dt.month\n",
    "datetime_dim['pick_year'] = datetime_dim['tpep_pickup_datetime'].dt.year\n",
    "datetime_dim['pick_weekday'] = datetime_dim['tpep_pickup_datetime'].dt.weekday\n",
    "\n",
    "# Creating features for Drop-Off hour, day, month, year and weekday.\n",
    "datetime_dim['drop_hour'] = datetime_dim['tpep_dropoff_datetime'].dt.hour\n",
    "datetime_dim['drop_day'] = datetime_dim['tpep_dropoff_datetime'].dt.day\n",
    "datetime_dim['drop_month'] = datetime_dim['tpep_dropoff_datetime'].dt.month\n",
    "datetime_dim['drop_year'] = datetime_dim['tpep_dropoff_datetime'].dt.year\n",
    "datetime_dim['drop_weekday'] = datetime_dim['tpep_dropoff_datetime'].dt.weekday\n",
    "\n",
    "datetime_dim.head()"
   ],
   "metadata": {
    "collapsed": false,
    "ExecuteTime": {
     "end_time": "2023-10-22T23:18:54.778224Z",
     "start_time": "2023-10-22T23:18:54.747355Z"
    }
   },
   "id": "320a064e83df5e76"
  },
  {
   "cell_type": "code",
   "execution_count": 14,
   "outputs": [
    {
     "data": {
      "text/plain": "   datetime_id tpep_pickup_datetime  pick_hour  pick_day  pick_month  \\\n0            0           2016-03-01          0         1           3   \n1            1           2016-03-01          0         1           3   \n2            2           2016-03-01          0         1           3   \n3            3           2016-03-01          0         1           3   \n4            4           2016-03-01          0         1           3   \n\n   pick_year  pick_weekday tpep_dropoff_datetime  drop_hour  drop_day  \\\n0       2016             1   2016-03-01 00:07:55          0         1   \n1       2016             1   2016-03-01 00:11:06          0         1   \n2       2016             1   2016-03-01 00:31:06          0         1   \n3       2016             1   2016-03-01 00:00:00          0         1   \n4       2016             1   2016-03-01 00:00:00          0         1   \n\n   drop_month  drop_year  drop_weekday  \n0           3       2016             1  \n1           3       2016             1  \n2           3       2016             1  \n3           3       2016             1  \n4           3       2016             1  ",
      "text/html": "<div>\n<style scoped>\n    .dataframe tbody tr th:only-of-type {\n        vertical-align: middle;\n    }\n\n    .dataframe tbody tr th {\n        vertical-align: top;\n    }\n\n    .dataframe thead th {\n        text-align: right;\n    }\n</style>\n<table border=\"1\" class=\"dataframe\">\n  <thead>\n    <tr style=\"text-align: right;\">\n      <th></th>\n      <th>datetime_id</th>\n      <th>tpep_pickup_datetime</th>\n      <th>pick_hour</th>\n      <th>pick_day</th>\n      <th>pick_month</th>\n      <th>pick_year</th>\n      <th>pick_weekday</th>\n      <th>tpep_dropoff_datetime</th>\n      <th>drop_hour</th>\n      <th>drop_day</th>\n      <th>drop_month</th>\n      <th>drop_year</th>\n      <th>drop_weekday</th>\n    </tr>\n  </thead>\n  <tbody>\n    <tr>\n      <th>0</th>\n      <td>0</td>\n      <td>2016-03-01</td>\n      <td>0</td>\n      <td>1</td>\n      <td>3</td>\n      <td>2016</td>\n      <td>1</td>\n      <td>2016-03-01 00:07:55</td>\n      <td>0</td>\n      <td>1</td>\n      <td>3</td>\n      <td>2016</td>\n      <td>1</td>\n    </tr>\n    <tr>\n      <th>1</th>\n      <td>1</td>\n      <td>2016-03-01</td>\n      <td>0</td>\n      <td>1</td>\n      <td>3</td>\n      <td>2016</td>\n      <td>1</td>\n      <td>2016-03-01 00:11:06</td>\n      <td>0</td>\n      <td>1</td>\n      <td>3</td>\n      <td>2016</td>\n      <td>1</td>\n    </tr>\n    <tr>\n      <th>2</th>\n      <td>2</td>\n      <td>2016-03-01</td>\n      <td>0</td>\n      <td>1</td>\n      <td>3</td>\n      <td>2016</td>\n      <td>1</td>\n      <td>2016-03-01 00:31:06</td>\n      <td>0</td>\n      <td>1</td>\n      <td>3</td>\n      <td>2016</td>\n      <td>1</td>\n    </tr>\n    <tr>\n      <th>3</th>\n      <td>3</td>\n      <td>2016-03-01</td>\n      <td>0</td>\n      <td>1</td>\n      <td>3</td>\n      <td>2016</td>\n      <td>1</td>\n      <td>2016-03-01 00:00:00</td>\n      <td>0</td>\n      <td>1</td>\n      <td>3</td>\n      <td>2016</td>\n      <td>1</td>\n    </tr>\n    <tr>\n      <th>4</th>\n      <td>4</td>\n      <td>2016-03-01</td>\n      <td>0</td>\n      <td>1</td>\n      <td>3</td>\n      <td>2016</td>\n      <td>1</td>\n      <td>2016-03-01 00:00:00</td>\n      <td>0</td>\n      <td>1</td>\n      <td>3</td>\n      <td>2016</td>\n      <td>1</td>\n    </tr>\n  </tbody>\n</table>\n</div>"
     },
     "execution_count": 14,
     "metadata": {},
     "output_type": "execute_result"
    }
   ],
   "source": [
    "# Creating a feature called 'datetime_id' which uniquely identifies each record and rearranging the dataset for readability.\n",
    "datetime_dim['datetime_id'] = datetime_dim.index\n",
    "\n",
    "datetime_dim = datetime_dim[['datetime_id', 'tpep_pickup_datetime', 'pick_hour', 'pick_day', 'pick_month', 'pick_year', 'pick_weekday',\n",
    "                             'tpep_dropoff_datetime', 'drop_hour', 'drop_day', 'drop_month', 'drop_year', 'drop_weekday']]\n",
    "\n",
    "datetime_dim.head()"
   ],
   "metadata": {
    "collapsed": false,
    "ExecuteTime": {
     "end_time": "2023-10-22T23:21:57.719137Z",
     "start_time": "2023-10-22T23:21:57.698256Z"
    }
   },
   "id": "b499242bdaa7f302"
  },
  {
   "cell_type": "code",
   "execution_count": 15,
   "outputs": [],
   "source": [
    "# Creating the second dimension table called 'passenger_count_dim' which contains the feature 'passenger_count'\n",
    "passenger_count_dim = df[['passenger_count']].reset_index(drop=True)"
   ],
   "metadata": {
    "collapsed": false,
    "ExecuteTime": {
     "end_time": "2023-10-22T23:25:55.550336Z",
     "start_time": "2023-10-22T23:25:55.536094Z"
    }
   },
   "id": "ffab1e1da87db32e"
  },
  {
   "cell_type": "code",
   "execution_count": 16,
   "outputs": [],
   "source": [
    "passenger_count_dim['passenger_count_id'] = passenger_count_dim.index\n",
    "passenger_count_dim = passenger_count_dim[['passenger_count_id','passenger_count']]"
   ],
   "metadata": {
    "collapsed": false,
    "ExecuteTime": {
     "end_time": "2023-10-22T23:26:09.764852Z",
     "start_time": "2023-10-22T23:26:09.754096Z"
    }
   },
   "id": "e13dfce822643280"
  },
  {
   "cell_type": "code",
   "execution_count": 17,
   "outputs": [
    {
     "data": {
      "text/plain": "   passenger_count_id  passenger_count\n0                   0                1\n1                   1                1\n2                   2                2\n3                   3                3\n4                   4                5",
      "text/html": "<div>\n<style scoped>\n    .dataframe tbody tr th:only-of-type {\n        vertical-align: middle;\n    }\n\n    .dataframe tbody tr th {\n        vertical-align: top;\n    }\n\n    .dataframe thead th {\n        text-align: right;\n    }\n</style>\n<table border=\"1\" class=\"dataframe\">\n  <thead>\n    <tr style=\"text-align: right;\">\n      <th></th>\n      <th>passenger_count_id</th>\n      <th>passenger_count</th>\n    </tr>\n  </thead>\n  <tbody>\n    <tr>\n      <th>0</th>\n      <td>0</td>\n      <td>1</td>\n    </tr>\n    <tr>\n      <th>1</th>\n      <td>1</td>\n      <td>1</td>\n    </tr>\n    <tr>\n      <th>2</th>\n      <td>2</td>\n      <td>2</td>\n    </tr>\n    <tr>\n      <th>3</th>\n      <td>3</td>\n      <td>3</td>\n    </tr>\n    <tr>\n      <th>4</th>\n      <td>4</td>\n      <td>5</td>\n    </tr>\n  </tbody>\n</table>\n</div>"
     },
     "execution_count": 17,
     "metadata": {},
     "output_type": "execute_result"
    }
   ],
   "source": [
    "passenger_count_dim.head()"
   ],
   "metadata": {
    "collapsed": false,
    "ExecuteTime": {
     "end_time": "2023-10-22T23:26:15.441556Z",
     "start_time": "2023-10-22T23:26:15.426186Z"
    }
   },
   "id": "f957c2c33fbfd04c"
  },
  {
   "cell_type": "code",
   "execution_count": 18,
   "outputs": [],
   "source": [
    "# Creating the third dimension table called 'trip_distance_dim' which contains the feature 'trip_distance'\n",
    "\n",
    "trip_distance_dim = df[['trip_distance']].reset_index(drop=True)"
   ],
   "metadata": {
    "collapsed": false,
    "ExecuteTime": {
     "end_time": "2023-10-22T23:28:06.347991Z",
     "start_time": "2023-10-22T23:28:06.341251Z"
    }
   },
   "id": "cf6926e572092551"
  },
  {
   "cell_type": "code",
   "execution_count": 19,
   "outputs": [],
   "source": [
    "trip_distance_dim['trip_distance_id'] = trip_distance_dim.index\n",
    "trip_distance_dim = trip_distance_dim[['trip_distance_id','trip_distance']]"
   ],
   "metadata": {
    "collapsed": false,
    "ExecuteTime": {
     "end_time": "2023-10-22T23:28:09.455566Z",
     "start_time": "2023-10-22T23:28:09.438399Z"
    }
   },
   "id": "961826a9de3b7374"
  },
  {
   "cell_type": "code",
   "execution_count": 20,
   "outputs": [
    {
     "data": {
      "text/plain": "   trip_distance_id  trip_distance\n0                 0           2.50\n1                 1           2.90\n2                 2          19.98\n3                 3          10.78\n4                 4          30.43",
      "text/html": "<div>\n<style scoped>\n    .dataframe tbody tr th:only-of-type {\n        vertical-align: middle;\n    }\n\n    .dataframe tbody tr th {\n        vertical-align: top;\n    }\n\n    .dataframe thead th {\n        text-align: right;\n    }\n</style>\n<table border=\"1\" class=\"dataframe\">\n  <thead>\n    <tr style=\"text-align: right;\">\n      <th></th>\n      <th>trip_distance_id</th>\n      <th>trip_distance</th>\n    </tr>\n  </thead>\n  <tbody>\n    <tr>\n      <th>0</th>\n      <td>0</td>\n      <td>2.50</td>\n    </tr>\n    <tr>\n      <th>1</th>\n      <td>1</td>\n      <td>2.90</td>\n    </tr>\n    <tr>\n      <th>2</th>\n      <td>2</td>\n      <td>19.98</td>\n    </tr>\n    <tr>\n      <th>3</th>\n      <td>3</td>\n      <td>10.78</td>\n    </tr>\n    <tr>\n      <th>4</th>\n      <td>4</td>\n      <td>30.43</td>\n    </tr>\n  </tbody>\n</table>\n</div>"
     },
     "execution_count": 20,
     "metadata": {},
     "output_type": "execute_result"
    }
   ],
   "source": [
    "trip_distance_dim.head()"
   ],
   "metadata": {
    "collapsed": false,
    "ExecuteTime": {
     "end_time": "2023-10-22T23:28:13.199085Z",
     "start_time": "2023-10-22T23:28:13.185218Z"
    }
   },
   "id": "99daf697a20d7c1b"
  },
  {
   "cell_type": "code",
   "execution_count": 21,
   "outputs": [],
   "source": [
    "# Creating the fourth dimension table called \"payment_type_dim\"  containing features like payment_type_name and payment_type_id\n",
    "payment_type_name = {\n",
    "    1:\"Credit card\",\n",
    "    2:\"Cash\",\n",
    "    3:\"No charge\",\n",
    "    4:\"Dispute\",\n",
    "    5:\"Unknown\",\n",
    "    6:\"Voided trip\"\n",
    "}"
   ],
   "metadata": {
    "collapsed": false,
    "ExecuteTime": {
     "end_time": "2023-10-22T23:36:59.650629Z",
     "start_time": "2023-10-22T23:36:59.636778Z"
    }
   },
   "id": "1e0fa83fdc7a6577"
  },
  {
   "cell_type": "code",
   "execution_count": 22,
   "outputs": [],
   "source": [
    "payment_type_dim = df[['payment_type']].reset_index(drop=True)\n",
    "payment_type_dim['payment_type_id'] = payment_type_dim.index"
   ],
   "metadata": {
    "collapsed": false,
    "ExecuteTime": {
     "end_time": "2023-10-22T23:37:24.818824Z",
     "start_time": "2023-10-22T23:37:24.801941Z"
    }
   },
   "id": "29c2c6c2e290fa5f"
  },
  {
   "cell_type": "code",
   "execution_count": 23,
   "outputs": [],
   "source": [
    "# Mapping the payment_type name to payment_type value based on the dictionary created above.\n",
    "payment_type_dim['payment_type_name'] = payment_type_dim['payment_type'].map(payment_type_name)\n",
    "payment_type_dim = payment_type_dim[['payment_type_id','payment_type','payment_type_name']]"
   ],
   "metadata": {
    "collapsed": false,
    "ExecuteTime": {
     "end_time": "2023-10-22T23:37:52.493765Z",
     "start_time": "2023-10-22T23:37:52.474301Z"
    }
   },
   "id": "48001f5204f04365"
  },
  {
   "cell_type": "code",
   "execution_count": 24,
   "outputs": [
    {
     "data": {
      "text/plain": "   payment_type_id  payment_type payment_type_name\n0                0             1       Credit card\n1                1             1       Credit card\n2                2             1       Credit card\n3                3             1       Credit card\n4                4             1       Credit card",
      "text/html": "<div>\n<style scoped>\n    .dataframe tbody tr th:only-of-type {\n        vertical-align: middle;\n    }\n\n    .dataframe tbody tr th {\n        vertical-align: top;\n    }\n\n    .dataframe thead th {\n        text-align: right;\n    }\n</style>\n<table border=\"1\" class=\"dataframe\">\n  <thead>\n    <tr style=\"text-align: right;\">\n      <th></th>\n      <th>payment_type_id</th>\n      <th>payment_type</th>\n      <th>payment_type_name</th>\n    </tr>\n  </thead>\n  <tbody>\n    <tr>\n      <th>0</th>\n      <td>0</td>\n      <td>1</td>\n      <td>Credit card</td>\n    </tr>\n    <tr>\n      <th>1</th>\n      <td>1</td>\n      <td>1</td>\n      <td>Credit card</td>\n    </tr>\n    <tr>\n      <th>2</th>\n      <td>2</td>\n      <td>1</td>\n      <td>Credit card</td>\n    </tr>\n    <tr>\n      <th>3</th>\n      <td>3</td>\n      <td>1</td>\n      <td>Credit card</td>\n    </tr>\n    <tr>\n      <th>4</th>\n      <td>4</td>\n      <td>1</td>\n      <td>Credit card</td>\n    </tr>\n  </tbody>\n</table>\n</div>"
     },
     "execution_count": 24,
     "metadata": {},
     "output_type": "execute_result"
    }
   ],
   "source": [
    "payment_type_dim.head()"
   ],
   "metadata": {
    "collapsed": false,
    "ExecuteTime": {
     "end_time": "2023-10-22T23:37:59.868356Z",
     "start_time": "2023-10-22T23:37:59.851535Z"
    }
   },
   "id": "50d921886cc575cf"
  },
  {
   "cell_type": "code",
   "execution_count": 25,
   "outputs": [],
   "source": [
    "# Creating the fifth dimension table called 'rate_code_dim' which contains 'RatecodeID' and 'rate_code_name'\n",
    "rate_code_type = {\n",
    "    1:\"Standard rate\",\n",
    "    2:\"JFK\",\n",
    "    3:\"Newark\",\n",
    "    4:\"Nassau or Westchester\",\n",
    "    5:\"Negotiated fare\",\n",
    "    6:\"Group ride\"\n",
    "}"
   ],
   "metadata": {
    "collapsed": false,
    "ExecuteTime": {
     "end_time": "2023-10-23T00:08:44.656707Z",
     "start_time": "2023-10-23T00:08:44.642968Z"
    }
   },
   "id": "ef23f55d56576330"
  },
  {
   "cell_type": "code",
   "execution_count": 26,
   "outputs": [],
   "source": [
    "rate_code_dim = df[['RatecodeID']].reset_index(drop=True)\n",
    "rate_code_dim['rate_code_id'] = rate_code_dim.index"
   ],
   "metadata": {
    "collapsed": false,
    "ExecuteTime": {
     "end_time": "2023-10-23T00:10:01.441567Z",
     "start_time": "2023-10-23T00:10:01.427231Z"
    }
   },
   "id": "35a7d8d49f746e1e"
  },
  {
   "cell_type": "code",
   "execution_count": 27,
   "outputs": [],
   "source": [
    "rate_code_dim['rate_code_name'] = rate_code_dim['RatecodeID'].map(rate_code_type)\n",
    "rate_code_dim = rate_code_dim[['rate_code_id','RatecodeID','rate_code_name']]"
   ],
   "metadata": {
    "collapsed": false,
    "ExecuteTime": {
     "end_time": "2023-10-23T00:10:07.983319Z",
     "start_time": "2023-10-23T00:10:07.964726Z"
    }
   },
   "id": "1e74914136edcef2"
  },
  {
   "cell_type": "code",
   "execution_count": 28,
   "outputs": [
    {
     "data": {
      "text/plain": "   rate_code_id  RatecodeID rate_code_name\n0             0           1  Standard rate\n1             1           1  Standard rate\n2             2           1  Standard rate\n3             3           1  Standard rate\n4             4           3         Newark",
      "text/html": "<div>\n<style scoped>\n    .dataframe tbody tr th:only-of-type {\n        vertical-align: middle;\n    }\n\n    .dataframe tbody tr th {\n        vertical-align: top;\n    }\n\n    .dataframe thead th {\n        text-align: right;\n    }\n</style>\n<table border=\"1\" class=\"dataframe\">\n  <thead>\n    <tr style=\"text-align: right;\">\n      <th></th>\n      <th>rate_code_id</th>\n      <th>RatecodeID</th>\n      <th>rate_code_name</th>\n    </tr>\n  </thead>\n  <tbody>\n    <tr>\n      <th>0</th>\n      <td>0</td>\n      <td>1</td>\n      <td>Standard rate</td>\n    </tr>\n    <tr>\n      <th>1</th>\n      <td>1</td>\n      <td>1</td>\n      <td>Standard rate</td>\n    </tr>\n    <tr>\n      <th>2</th>\n      <td>2</td>\n      <td>1</td>\n      <td>Standard rate</td>\n    </tr>\n    <tr>\n      <th>3</th>\n      <td>3</td>\n      <td>1</td>\n      <td>Standard rate</td>\n    </tr>\n    <tr>\n      <th>4</th>\n      <td>4</td>\n      <td>3</td>\n      <td>Newark</td>\n    </tr>\n  </tbody>\n</table>\n</div>"
     },
     "execution_count": 28,
     "metadata": {},
     "output_type": "execute_result"
    }
   ],
   "source": [
    "rate_code_dim.head()"
   ],
   "metadata": {
    "collapsed": false,
    "ExecuteTime": {
     "end_time": "2023-10-23T00:10:11.935099Z",
     "start_time": "2023-10-23T00:10:11.918793Z"
    }
   },
   "id": "1071984727f04f86"
  },
  {
   "cell_type": "code",
   "execution_count": 30,
   "outputs": [],
   "source": [
    "# Creating the sixth dimension table called 'pickup_location_dim' containing features like 'pickup_longitude' and 'pickup_latitude'.\n",
    "\n",
    "pickup_location_dim = df[['pickup_longitude', 'pickup_latitude']].reset_index(drop=True)\n",
    "pickup_location_dim['pickup_location_id'] = pickup_location_dim.index\n",
    "pickup_location_dim = pickup_location_dim[['pickup_location_id','pickup_latitude','pickup_longitude']] "
   ],
   "metadata": {
    "collapsed": false,
    "ExecuteTime": {
     "end_time": "2023-10-23T00:39:45.903017Z",
     "start_time": "2023-10-23T00:39:45.897696Z"
    }
   },
   "id": "9c16e0e34266a087"
  },
  {
   "cell_type": "code",
   "execution_count": 32,
   "outputs": [
    {
     "data": {
      "text/plain": "   pickup_location_id  pickup_latitude  pickup_longitude\n0                   0        40.765152        -73.976746\n1                   1        40.767925        -73.983482\n2                   2        40.644810        -73.782021\n3                   3        40.769814        -73.863419\n4                   4        40.792183        -73.971741",
      "text/html": "<div>\n<style scoped>\n    .dataframe tbody tr th:only-of-type {\n        vertical-align: middle;\n    }\n\n    .dataframe tbody tr th {\n        vertical-align: top;\n    }\n\n    .dataframe thead th {\n        text-align: right;\n    }\n</style>\n<table border=\"1\" class=\"dataframe\">\n  <thead>\n    <tr style=\"text-align: right;\">\n      <th></th>\n      <th>pickup_location_id</th>\n      <th>pickup_latitude</th>\n      <th>pickup_longitude</th>\n    </tr>\n  </thead>\n  <tbody>\n    <tr>\n      <th>0</th>\n      <td>0</td>\n      <td>40.765152</td>\n      <td>-73.976746</td>\n    </tr>\n    <tr>\n      <th>1</th>\n      <td>1</td>\n      <td>40.767925</td>\n      <td>-73.983482</td>\n    </tr>\n    <tr>\n      <th>2</th>\n      <td>2</td>\n      <td>40.644810</td>\n      <td>-73.782021</td>\n    </tr>\n    <tr>\n      <th>3</th>\n      <td>3</td>\n      <td>40.769814</td>\n      <td>-73.863419</td>\n    </tr>\n    <tr>\n      <th>4</th>\n      <td>4</td>\n      <td>40.792183</td>\n      <td>-73.971741</td>\n    </tr>\n  </tbody>\n</table>\n</div>"
     },
     "execution_count": 32,
     "metadata": {},
     "output_type": "execute_result"
    }
   ],
   "source": [
    "pickup_location_dim.head()"
   ],
   "metadata": {
    "collapsed": false,
    "ExecuteTime": {
     "end_time": "2023-10-23T00:39:54.616884Z",
     "start_time": "2023-10-23T00:39:54.609255Z"
    }
   },
   "id": "334541af5696d4f"
  },
  {
   "cell_type": "code",
   "execution_count": 31,
   "outputs": [],
   "source": [
    "# Creating the seventh dimension table called 'dropoff_location_dim' containing features like 'dropoff_longitude' and 'dropoff_latitude'.\n",
    "\n",
    "dropoff_location_dim = df[['dropoff_longitude', 'dropoff_latitude']].reset_index(drop=True)\n",
    "dropoff_location_dim['dropoff_location_id'] = dropoff_location_dim.index\n",
    "dropoff_location_dim = dropoff_location_dim[['dropoff_location_id','dropoff_latitude','dropoff_longitude']]"
   ],
   "metadata": {
    "collapsed": false,
    "ExecuteTime": {
     "end_time": "2023-10-23T00:39:46.563863Z",
     "start_time": "2023-10-23T00:39:46.542772Z"
    }
   },
   "id": "f10c2f346d2a94e9"
  },
  {
   "cell_type": "code",
   "execution_count": 33,
   "outputs": [
    {
     "data": {
      "text/plain": "   dropoff_location_id  dropoff_latitude  dropoff_longitude\n0                    0         40.746128         -74.004265\n1                    1         40.733166         -74.005943\n2                    2         40.675770         -73.974541\n3                    3         40.757767         -73.969650\n4                    4         40.695053         -74.177170",
      "text/html": "<div>\n<style scoped>\n    .dataframe tbody tr th:only-of-type {\n        vertical-align: middle;\n    }\n\n    .dataframe tbody tr th {\n        vertical-align: top;\n    }\n\n    .dataframe thead th {\n        text-align: right;\n    }\n</style>\n<table border=\"1\" class=\"dataframe\">\n  <thead>\n    <tr style=\"text-align: right;\">\n      <th></th>\n      <th>dropoff_location_id</th>\n      <th>dropoff_latitude</th>\n      <th>dropoff_longitude</th>\n    </tr>\n  </thead>\n  <tbody>\n    <tr>\n      <th>0</th>\n      <td>0</td>\n      <td>40.746128</td>\n      <td>-74.004265</td>\n    </tr>\n    <tr>\n      <th>1</th>\n      <td>1</td>\n      <td>40.733166</td>\n      <td>-74.005943</td>\n    </tr>\n    <tr>\n      <th>2</th>\n      <td>2</td>\n      <td>40.675770</td>\n      <td>-73.974541</td>\n    </tr>\n    <tr>\n      <th>3</th>\n      <td>3</td>\n      <td>40.757767</td>\n      <td>-73.969650</td>\n    </tr>\n    <tr>\n      <th>4</th>\n      <td>4</td>\n      <td>40.695053</td>\n      <td>-74.177170</td>\n    </tr>\n  </tbody>\n</table>\n</div>"
     },
     "execution_count": 33,
     "metadata": {},
     "output_type": "execute_result"
    }
   ],
   "source": [
    "dropoff_location_dim.head()"
   ],
   "metadata": {
    "collapsed": false,
    "ExecuteTime": {
     "end_time": "2023-10-23T00:40:02.020200Z",
     "start_time": "2023-10-23T00:40:01.998659Z"
    }
   },
   "id": "6fca8925dc22eb08"
  },
  {
   "cell_type": "code",
   "execution_count": 34,
   "outputs": [],
   "source": [
    "# We are done with creating all the dimension table, and now we need to create the facts table using the dimension tables and their primary key.\n",
    "\n",
    "fact_table = df.merge(passenger_count_dim, left_on='trip_id', right_on='passenger_count_id') \\\n",
    "             .merge(trip_distance_dim, left_on='trip_id', right_on='trip_distance_id') \\\n",
    "             .merge(rate_code_dim, left_on='trip_id', right_on='rate_code_id') \\\n",
    "             .merge(pickup_location_dim, left_on='trip_id', right_on='pickup_location_id') \\\n",
    "             .merge(dropoff_location_dim, left_on='trip_id', right_on='dropoff_location_id')\\\n",
    "             .merge(datetime_dim, left_on='trip_id', right_on='datetime_id') \\\n",
    "             .merge(payment_type_dim, left_on='trip_id', right_on='payment_type_id') \\\n",
    "             [['trip_id','VendorID', 'datetime_id', 'passenger_count_id',\n",
    "               'trip_distance_id', 'rate_code_id', 'store_and_fwd_flag', 'pickup_location_id', 'dropoff_location_id',\n",
    "               'payment_type_id', 'fare_amount', 'extra', 'mta_tax', 'tip_amount', 'tolls_amount',\n",
    "               'improvement_surcharge', 'total_amount']]"
   ],
   "metadata": {
    "collapsed": false,
    "ExecuteTime": {
     "end_time": "2023-10-23T00:46:50.785805Z",
     "start_time": "2023-10-23T00:46:50.602220Z"
    }
   },
   "id": "86c7a200805c5bb7"
  },
  {
   "cell_type": "code",
   "execution_count": 35,
   "outputs": [
    {
     "data": {
      "text/plain": "   trip_id  VendorID  datetime_id  passenger_count_id  trip_distance_id  \\\n0        0         1            0                   0                 0   \n1        1         1            1                   1                 1   \n2        2         2            2                   2                 2   \n3        3         2            3                   3                 3   \n4        4         2            4                   4                 4   \n\n   rate_code_id store_and_fwd_flag  pickup_location_id  dropoff_location_id  \\\n0             0                  N                   0                    0   \n1             1                  N                   1                    1   \n2             2                  N                   2                    2   \n3             3                  N                   3                    3   \n4             4                  N                   4                    4   \n\n   payment_type_id  fare_amount  extra  mta_tax  tip_amount  tolls_amount  \\\n0                0          9.0    0.5      0.5        2.05          0.00   \n1                1         11.0    0.5      0.5        3.05          0.00   \n2                2         54.5    0.5      0.5        8.00          0.00   \n3                3         31.5    0.0      0.5        3.78          5.54   \n4                4         98.0    0.0      0.0        0.00         15.50   \n\n   improvement_surcharge  total_amount  \n0                    0.3         12.35  \n1                    0.3         15.35  \n2                    0.3         63.80  \n3                    0.3         41.62  \n4                    0.3        113.80  ",
      "text/html": "<div>\n<style scoped>\n    .dataframe tbody tr th:only-of-type {\n        vertical-align: middle;\n    }\n\n    .dataframe tbody tr th {\n        vertical-align: top;\n    }\n\n    .dataframe thead th {\n        text-align: right;\n    }\n</style>\n<table border=\"1\" class=\"dataframe\">\n  <thead>\n    <tr style=\"text-align: right;\">\n      <th></th>\n      <th>trip_id</th>\n      <th>VendorID</th>\n      <th>datetime_id</th>\n      <th>passenger_count_id</th>\n      <th>trip_distance_id</th>\n      <th>rate_code_id</th>\n      <th>store_and_fwd_flag</th>\n      <th>pickup_location_id</th>\n      <th>dropoff_location_id</th>\n      <th>payment_type_id</th>\n      <th>fare_amount</th>\n      <th>extra</th>\n      <th>mta_tax</th>\n      <th>tip_amount</th>\n      <th>tolls_amount</th>\n      <th>improvement_surcharge</th>\n      <th>total_amount</th>\n    </tr>\n  </thead>\n  <tbody>\n    <tr>\n      <th>0</th>\n      <td>0</td>\n      <td>1</td>\n      <td>0</td>\n      <td>0</td>\n      <td>0</td>\n      <td>0</td>\n      <td>N</td>\n      <td>0</td>\n      <td>0</td>\n      <td>0</td>\n      <td>9.0</td>\n      <td>0.5</td>\n      <td>0.5</td>\n      <td>2.05</td>\n      <td>0.00</td>\n      <td>0.3</td>\n      <td>12.35</td>\n    </tr>\n    <tr>\n      <th>1</th>\n      <td>1</td>\n      <td>1</td>\n      <td>1</td>\n      <td>1</td>\n      <td>1</td>\n      <td>1</td>\n      <td>N</td>\n      <td>1</td>\n      <td>1</td>\n      <td>1</td>\n      <td>11.0</td>\n      <td>0.5</td>\n      <td>0.5</td>\n      <td>3.05</td>\n      <td>0.00</td>\n      <td>0.3</td>\n      <td>15.35</td>\n    </tr>\n    <tr>\n      <th>2</th>\n      <td>2</td>\n      <td>2</td>\n      <td>2</td>\n      <td>2</td>\n      <td>2</td>\n      <td>2</td>\n      <td>N</td>\n      <td>2</td>\n      <td>2</td>\n      <td>2</td>\n      <td>54.5</td>\n      <td>0.5</td>\n      <td>0.5</td>\n      <td>8.00</td>\n      <td>0.00</td>\n      <td>0.3</td>\n      <td>63.80</td>\n    </tr>\n    <tr>\n      <th>3</th>\n      <td>3</td>\n      <td>2</td>\n      <td>3</td>\n      <td>3</td>\n      <td>3</td>\n      <td>3</td>\n      <td>N</td>\n      <td>3</td>\n      <td>3</td>\n      <td>3</td>\n      <td>31.5</td>\n      <td>0.0</td>\n      <td>0.5</td>\n      <td>3.78</td>\n      <td>5.54</td>\n      <td>0.3</td>\n      <td>41.62</td>\n    </tr>\n    <tr>\n      <th>4</th>\n      <td>4</td>\n      <td>2</td>\n      <td>4</td>\n      <td>4</td>\n      <td>4</td>\n      <td>4</td>\n      <td>N</td>\n      <td>4</td>\n      <td>4</td>\n      <td>4</td>\n      <td>98.0</td>\n      <td>0.0</td>\n      <td>0.0</td>\n      <td>0.00</td>\n      <td>15.50</td>\n      <td>0.3</td>\n      <td>113.80</td>\n    </tr>\n  </tbody>\n</table>\n</div>"
     },
     "execution_count": 35,
     "metadata": {},
     "output_type": "execute_result"
    }
   ],
   "source": [
    "fact_table.head()"
   ],
   "metadata": {
    "collapsed": false
   },
   "id": "9510f9c55b35bb78"
  }
 ],
 "metadata": {
  "kernelspec": {
   "display_name": "Python 3",
   "language": "python",
   "name": "python3"
  },
  "language_info": {
   "codemirror_mode": {
    "name": "ipython",
    "version": 2
   },
   "file_extension": ".py",
   "mimetype": "text/x-python",
   "name": "python",
   "nbconvert_exporter": "python",
   "pygments_lexer": "ipython2",
   "version": "2.7.6"
  }
 },
 "nbformat": 4,
 "nbformat_minor": 5
}
